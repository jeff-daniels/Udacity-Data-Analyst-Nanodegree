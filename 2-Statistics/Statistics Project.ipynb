{
 "cells": [
  {
   "cell_type": "markdown",
   "metadata": {},
   "source": [
    "# Statistics: The Science of Decisions Project\n",
    "## Testing a Perceptual Phenomenon\n",
    "\n",
    "#### Prepared by: \n",
    "Jeff Daniels  \n",
    "jeffrey.arthur.daniels@gmail.com  \n",
    "August 14th, 2017"
   ]
  },
  {
   "cell_type": "markdown",
   "metadata": {},
   "source": [
    "### Background Information\n",
    "\n",
    "The Stroop effect measures the interference in reaction time during a task where participants identify the color of written text.  The color of the text can be arbitrarily assigned: for example <b><font color = purple>CAT</font></b>, <b><font color = aqua>DOG</font></b>, <b><font color = lime>MOUSE</font></b>.  The text color can also be congruent words where the words are names of colors printed in colors that correspond to their names: for example <b><font color = \"black\">BLACK</font></b>, <b><font color =\"blue\">BLUE</font></b>, <b><font color = \"red\">RED</font></b>.  Examples of incongruent words, where the words are names of colors printed in colors that do not correspond: <b><font color = \"fuchsia\">GREEN</font></b>, <b><font color = \"orange\">PINK</font></b>, <b><font color = \"green\">ORANGE</font></b>.\n",
    "\n",
    "This test data is concerned with the diffence in reaction times for identifying two sets of words, a congruent set and an incongruent set.  Both sets of words are the names of colors and are the same length, but the congruent words are printed in colors that corespond to the name of the color.  The time it takes to identify the word colors in each set is recorded.\n",
    "\n",
    "The purpose of this test is to determine if there is a difference in time it takes to identify congruent and incongruent words."
   ]
  },
  {
   "cell_type": "markdown",
   "metadata": {},
   "source": [
    "### Question 1: Identify variables in the experiment\n",
    "\n",
    "The independent variable which this test modifies is whether the word set contains congruent words or incongruent words.  These seperate inputs could influence the amount of time it takes to complete the task of identifying a list of words, the dependent variable.  The length of each list of words is constant.  Because participants are identifying a set of both types of words, the amount of samples for each type of word set is also equal."
   ]
  },
  {
   "cell_type": "markdown",
   "metadata": {},
   "source": [
    "### Question 2a: Establish hypotheses\n",
    "\n",
    "The null hypothesis for this experiment is that the type of words in each set does not affect the time it takes to complete the task of identifying word colors.  For our data, this means that the mean time to task completion is the same for congruent and incongruent word sets.\n",
    "\n",
    "<center>$H_0:$  $\\mu_{Con}$ = $\\mu_{Inc}$</center>\n",
    "\n",
    "Where $H_0$ is the null hypothesis, $\\mu_{Con}$ is the mean time to complete a Congruent word set, and $\\mu_{Inc}$ is the mean time to complete an Incongruent word set.\n",
    "\n",
    "The alternative hypothesis $H_A$ will predict the mean time to complete the tasks to be different.  Either the time to complete the congruent word set is *greater* than the time to complete the incongruent task or it is *less*.\n",
    "\n",
    "<center>$H_A:$  $\\mu_{Con}$ > $\\mu_{Inc}$</center>\n",
    "\n",
    "<center>$or$</center>\n",
    "\n",
    "<center>$H_A:$  $\\mu_{Con}$ < $\\mu_{Inc}$</center>\n"
   ]
  },
  {
   "cell_type": "markdown",
   "metadata": {},
   "source": [
    "### Question 2b: Establish a statistical test\n",
    "\n",
    "The data represents samples from a population of test takers.  The two sets of data are paired samples because they represent a sample of test takers who took two tests.  Furthermore, because we are interested in the difference in means between the two tests, $\\bar{X}_D$, a Paired difference test should be used.  \n",
    "\n",
    "To be certain that the difference in paired samples represents an actual difference in test scores for the entire population and not just variability in samples taken, a statistical test must be implemented.  Generally speaking, for two sample means to be statistically different, the likelihood of the mean difference $\\bar{X}_D$, must be below some threshold $\\alpha$.  \n",
    "\n",
    "<center>$p$($\\bar{X}_D$) < $\\alpha$</center>\n",
    "\n",
    "Several methods can be used to implement paired difference tests but I shall compare the two commonly used methods for $\\bar{X}_D$ that is assumed to have a normal distribution, the t-test and the z-test.  The major difference between the two being: the <i>population</i> standard deviation $\\sigma_D$ is known in the z-test.  Practically speaking, the t-test is used when the sample size $n$ < 30.\n",
    "\n",
    "The t-statistic is as follows: \n",
    "\n",
    "\\begin{equation*}\n",
    "t = \\frac{\\bar{X}_D}{\\frac{s_D}{\\sqrt{n}}}\n",
    "\\end{equation*}\n",
    "    \n",
    "\n",
    "Where $\\bar{X}_D$ is the mean of differences between the test scores,$\\ s_D$ is the sample standard deviation of the test score differences, and$\\ n$ is the number of test takers or samples for each test.  \n",
    "\n",
    "The t-statistic and degrees of freedom $v$ will be the inputs for calculating the probability of the $t$ value in the Student t-distribution written below.\n",
    "\n",
    "\\begin{equation}\n",
    "p = \\frac{\\Gamma(\\frac{v+1}{2})}{\\sqrt{v\\pi}\\Gamma(\\frac{v}{2})}\\Big(1+\\frac{t^2}{v}\\Big)^{-\\frac{v+1}{2}}\n",
    "\\end{equation}  \n",
    "\n",
    "Where $v$ is the degrees of freedom:  \n",
    "\n",
    "<center>$v$ = $n-1$</center>\n",
    "\n",
    "And $\\Gamma$ is the gamma function:\n",
    "\n",
    "<center>$\\Gamma$$(n) = (n-1)!$</center>\n",
    "\n",
    "An explanation of the t-student distribution is beyond my understanding and the scope of this test.  For this test, a python function from the stats library was used to return a t-statistic and a two-tailed p-value:\n",
    "\n",
    "stats.ttest_rel(a, b, axis=0)\n",
    "\n",
    "Which according to the documentation:\n",
    "\n",
    "*Calculates the t-test on two related samples of scores, a and b.  This is a two-sided test for for the null hypothesis that 2 related or repeated samples have identical average (expected) values.*  \n",
    "\n",
    "To summarize, the t-test will generate a t-statistic $t$ for the mean difference $\\bar{X}_D$ of two test sets and the probability $p$ of that value.  If the probability is below a threshold $\\alpha$, the null hypothesis $H_0$ is rejected.  \n",
    "\n",
    "\\begin{equation}\n",
    "Accept \\, H_0: \\quad p\\Big(t(\\bar{X}_D)\\Big) > \\alpha\n",
    "\\end{equation}\n",
    "\n",
    "\\begin{equation}\n",
    "Reject \\, H_0: \\quad p\\Big(t(\\bar{X}_D)\\Big) \\leq \\alpha\n",
    "\\end{equation}\n",
    "\n",
    "Setting $\\alpha$ to a reasonable threshold:\n",
    "\n",
    "\\begin{equation}\n",
    "\\alpha = 0.05\n",
    "\\end{equation}\n",
    "\n",
    "The null hypothosis $H_0$ shall be rejected if the p-value is at or below 0.05:\n",
    "\n",
    "\\begin{equation}\n",
    "p \\leq 0.05\n",
    "\\end{equation}\n",
    "\n",
    "Assuming a two tailed distribution, this probability corresponds to critical t-statistic $t_{Crit}$ of 2.07 and we can therefore accept or reject the null hypothesis $H_0$ under the following conditions:\n",
    "\n",
    "\\begin{equation}\n",
    "Accept \\, H_0: \\quad t < 2.07\n",
    "\\end{equation}\n",
    "\n",
    "\\begin{equation}\n",
    "Reject \\, H_0: \\quad t \\geq 2.07\n",
    "\\end{equation}"
   ]
  },
  {
   "cell_type": "code",
   "execution_count": 2,
   "metadata": {
    "collapsed": false
   },
   "outputs": [],
   "source": [
    "import pandas as pd\n",
    "import numpy as np\n",
    "import matplotlib.pyplot as plt\n",
    "import matplotlib.mlab as mlab\n",
    "from scipy import stats\n",
    "\n",
    "stroop = pd.read_csv('stroopdata.csv')\n"
   ]
  },
  {
   "cell_type": "code",
   "execution_count": 5,
   "metadata": {
    "collapsed": false
   },
   "outputs": [],
   "source": [
    "# Summary of Data\n",
    "\n",
    "stroop.describe();"
   ]
  },
  {
   "cell_type": "code",
   "execution_count": 114,
   "metadata": {
    "collapsed": false
   },
   "outputs": [],
   "source": [
    "# Calculate XbarD\n",
    "\n",
    "stroop.Difference = stroop.Incongruent - stroop.Congruent\n",
    "stroop.Difference.describe();"
   ]
  },
  {
   "cell_type": "code",
   "execution_count": 115,
   "metadata": {
    "collapsed": false
   },
   "outputs": [],
   "source": [
    "# Calculate t_crit for two-tailed t-distribution\n",
    "df = stroop.Difference.size - 1\n",
    "alpha = 0.05\n",
    "\n",
    "stats.t.ppf(1-alpha/2, df);"
   ]
  },
  {
   "cell_type": "code",
   "execution_count": 116,
   "metadata": {
    "collapsed": false
   },
   "outputs": [],
   "source": [
    "# Percent increase in task completion times\n",
    "\n",
    "(stroop.Incongruent.mean() - stroop.Congruent.mean())/(stroop.Congruent.mean());"
   ]
  },
  {
   "cell_type": "markdown",
   "metadata": {},
   "source": [
    "### Question 3: Report Descriptive Statistics\n",
    "\n",
    "The table below reports the descriptive statistics for the data set.  Clearly it takes longer to identify colors in an incongruent data set.  About 57% longer.  The average difference in time, $\\bar{X}_D$, is 7.96 seconds.\n",
    "\n",
    "|  Time to Complete task (s)               |\n",
    "|---:|\n",
    "|       | $X_{Con}$ |$X_{Inc}$ | $X_D$     |\n",
    "|n  |24        |24          | 24 |\n",
    "|$\\bar{X}$   |14.05     |22.02       | 7.96 |\n",
    "|$s$ | 3.56 | 4.80 | 4.86 |\n"
   ]
  },
  {
   "cell_type": "markdown",
   "metadata": {},
   "source": [
    "### Question 4: Plot the data\n",
    "\n",
    "A histogram of the two groups of data are plotted below.  Now we can see visually how the time it takes to complete an incongruent task is generally longer than for a congruent task.  Plotting the normal probability distribution function over the histogram also helps us to visualize the greater variability in the incongruent task.  The test scores overlap between about 15 and 22 seconds.\n",
    "\n",
    "While this plot shows the distributions of test scores well, it does not tell us whether or not specific individuals did better or worse on an incongruent task.  This plot could be interpreted as so: the overlap region of the histograms represents individuals for whom the null hypothesis applies, those who did not perform the incongruent task slower or faster.  There may still be individuals who performed incongruent tasks faster."
   ]
  },
  {
   "cell_type": "code",
   "execution_count": 117,
   "metadata": {
    "collapsed": false
   },
   "outputs": [
    {
     "data": {
      "image/png": "[encoded data removed]",
      "text/plain": [
       "<matplotlib.figure.Figure at 0x7c90246336d8>"
      ]
     },
     "metadata": {},
     "output_type": "display_data"
    }
   ],
   "source": [
    "# Plot the histograms of the two tests\n",
    "# Overlay a probability distribution function\n",
    "\n",
    "%matplotlib inline\n",
    "\n",
    "fig, ax1 = plt.subplots(figsize = (10,6))\n",
    "ax2 = ax1.twinx()\n",
    "\n",
    "ax1.hist(stroop.Congruent, bins = 24, color = 'b', alpha = 0.5)\n",
    "ax1.hist(stroop.Incongruent, bins = 24, color = 'g', alpha = 0.5)\n",
    "congruent_fit = stats.norm.pdf(sorted(stroop.Congruent), \n",
    "                               stroop.Congruent.mean(), \n",
    "                               stroop.Congruent.std())\n",
    "incongruent_fit = stats.norm.pdf(sorted(stroop.Incongruent),\n",
    "                                 stroop.Incongruent.mean(), \n",
    "                                 stroop.Incongruent.std())\n",
    "ax2.plot(sorted(stroop.Congruent), congruent_fit,\n",
    "        color = 'b')\n",
    "ax2.plot(sorted(stroop.Incongruent), incongruent_fit,\n",
    "        color = 'g')\n",
    "\n",
    "\n",
    "ax1.set_ylabel('Frequency')\n",
    "ax2.set_ylabel('Probability')\n",
    "ax1.set_xlabel('Time to complete task')\n",
    "plt.legend(['Congruent Words', 'Incongruent Words'])\n",
    "\n",
    "plt.show()"
   ]
  },
  {
   "cell_type": "markdown",
   "metadata": {},
   "source": [
    "Plotted below is the difference in time between the incongruent and congruent tasks for each test subject.  Now we can be certain that in our data set there were no test subjects who performed faster on the incongruent task.  The t-statistic probability density function is plotted over the histogram and it appears that it is extremely unlikely that someone will complete an incongruent task faster:\n",
    "\n",
    "\\begin{equation}\n",
    "p(\\bar{X}_D < 0) = 2.31 x 10^{-8}\n",
    "\\end{equation}"
   ]
  },
  {
   "cell_type": "code",
   "execution_count": 118,
   "metadata": {
    "collapsed": false
   },
   "outputs": [],
   "source": [
    "# Likelihood of completing the incongruent task faster - normal distribution\n",
    "\n",
    "stats.norm.cdf(0, stroop.Difference.mean(), stroop.Difference.std());"
   ]
  },
  {
   "cell_type": "code",
   "execution_count": 119,
   "metadata": {
    "collapsed": false
   },
   "outputs": [],
   "source": [
    "# Likelihood of completing the incongruent task faster -t distribution\n",
    "\n",
    "df = stroop.Difference.size - 1\n",
    "stats.t.cdf(0, df, stroop.Difference.mean());"
   ]
  },
  {
   "cell_type": "code",
   "execution_count": 120,
   "metadata": {
    "collapsed": false
   },
   "outputs": [
    {
     "data": {
      "image/png": "[encoded data removed]",
      "text/plain": [
       "<matplotlib.figure.Figure at 0x7c9024083828>"
      ]
     },
     "metadata": {},
     "output_type": "display_data"
    }
   ],
   "source": [
    "# Plot a histogram of differences\n",
    "# Overlay the t distribution function\n",
    "\n",
    "df = stroop.Difference.size - 1\n",
    "fig, ax1 = plt.subplots(figsize = (10,6))\n",
    "ax2 = ax1.twinx()\n",
    "\n",
    "ax1.hist(stroop.Difference, bins = 24, color = 'r', alpha = 0.5)\n",
    "\n",
    "#difference_fit = stats.norm.pdf(sorted(stroop.Difference), \n",
    "#                               stroop.Difference.mean(), \n",
    "#                               stroop.Difference.std())\n",
    "\n",
    "t_dist_fit = stats.t.pdf(sorted(stroop.Difference), df,\n",
    "                    stroop.Difference.mean())\n",
    "\n",
    "ax2.plot(sorted(stroop.Difference), t_dist_fit,\n",
    "        color = 'r')\n",
    "\n",
    "ax1.set_ylabel('Frequency')\n",
    "ax2.set_ylabel('Probability')\n",
    "ax1.set_xlabel('Additional Time Required for Incongruent Task')\n",
    "\n",
    "plt.legend(['t-distribution'])\n",
    "plt.show()"
   ]
  },
  {
   "cell_type": "code",
   "execution_count": 121,
   "metadata": {
    "collapsed": false
   },
   "outputs": [],
   "source": [
    "# Dependent t-test for paired samples\n",
    "stats.ttest_rel(stroop.Congruent, stroop.Incongruent);"
   ]
  },
  {
   "cell_type": "markdown",
   "metadata": {},
   "source": [
    "### Question 5: Perform the statistical test and interpret your results\n",
    "\n",
    "Let us revisit our conditions for accepting or rejecting the null hypothesis based on the $t_{Crit}$ value corresponding to $\\alpha$ = 0.05 and degrees of freedom equal to 23:  \n",
    "\n",
    "\\begin{equation}\n",
    "Accept \\, H_0: \\quad t < 2.07\n",
    "\\end{equation}\n",
    "\n",
    "\\begin{equation}\n",
    "Reject \\, H_0: \\quad t \\geq 2.07\n",
    "\\end{equation}\n",
    "\n",
    "Performing a t-test on $\\bar{X}_D$ gave us the following results:\n",
    "\n",
    "\\begin{equation}\n",
    "t(\\bar{X}_D) = 8.02\n",
    "\\end{equation}\n",
    "\n",
    "\\begin{equation}\n",
    "t(\\bar{X}_D) > t_{crit}\n",
    "\\end{equation}\n",
    "\n",
    "Therefore <b><i>the null hypothesis is rejected</i></b>.  The probability of this difference in test scores without rejecting the null hypothesis is very low.\n",
    "\n",
    "\\begin{equation}\n",
    "p(\\bar{X}_D) = 4.1*10^{-8}\n",
    "\\end{equation}\n",
    "\n",
    "\\begin{equation}\n",
    "p(\\bar{X}_D) < \\alpha\n",
    "\\end{equation}\n",
    "\n",
    "Recall that mean difference in test scores $\\bar{X}_D$ is $7.96$.  Setting our confidence interval $CI$ to $95 \\%$, the $t_{Crit}$ values for this confidence interval are $\\pm 2.07$.  That is:\n",
    "\n",
    "\\begin{equation}\n",
    "p(-2.07 < t < 2.07) = 0.95\n",
    "\\end{equation}\n",
    "\n",
    "Substituting for $t$:\n",
    "\n",
    "\\begin{equation}\n",
    "p(-2.07 < \\frac{\\bar{X}_D}{\\frac{s_D}{\\sqrt{n}}} < 2.07) = 0.95\n",
    "\\end{equation}\n",
    "\n",
    "Solving for $\\bar{X}_D$ generates our equation for a confidence interval:\n",
    "\\begin{equation}\n",
    "\\bar{X}_D \\pm 2.07*\\frac{s_D}{\\sqrt{n}}\n",
    "\\end{equation}\n",
    "\n",
    "The margin of error is calculated to be $2.05$\n",
    "\\begin{equation}\n",
    "Margin \\, of \\, Error = 2.07*\\frac{s_D}{\\sqrt{n}} = 2.05\n",
    "\\end{equation}\n",
    "\n",
    "\n",
    "and the confidence interval is:  \n",
    "\n",
    "\n",
    "<center><b> 95% CI [5.91, 10.01] </b></center>\n",
    "\n",
    "Based on the t-test, the null hypothesis is rejected.  Furthermore we can can state with 95% confidence that it will take between 5.91 and 10.01 seconds longer to complete an incongruent task than a congruent task."
   ]
  },
  {
   "cell_type": "code",
   "execution_count": 122,
   "metadata": {
    "collapsed": false
   },
   "outputs": [],
   "source": [
    "# Confidence Interval calculations go here\n",
    "n = stroop.Difference.size\n",
    "df = n-1\n",
    "CI = 0.95\n",
    "t_crit = stats.t.ppf((1-CI)/2, df)\n",
    "std_error = stroop.Difference.std()/np.sqrt(n)\n",
    "\n",
    "margin_of_error = t_crit * std_error\n",
    "margin_of_error;"
   ]
  },
  {
   "cell_type": "code",
   "execution_count": 123,
   "metadata": {
    "collapsed": false
   },
   "outputs": [
    {
     "data": {
      "text/html": [
       "<script>\n",
       "code_show=true; \n",
       "function code_toggle() {\n",
       " if (code_show){\n",
       " $('div.input').hide();\n",
       " } else {\n",
       " $('div.input').show();\n",
       " }\n",
       " code_show = !code_show\n",
       "} \n",
       "$( document ).ready(code_toggle);\n",
       "</script>\n",
       "<form action=\"javascript:code_toggle()\"><input type=\"submit\" value=\"Click here to toggle on/off the raw code.\"></form>"
      ],
      "text/plain": [
       "<IPython.core.display.HTML object>"
      ]
     },
     "execution_count": 123,
     "metadata": {},
     "output_type": "execute_result"
    }
   ],
   "source": [
    "# https://stackoverflow.com/questions/27934885/how-to-hide-code-from-cells-in-ipython-notebook-visualized-with-nbviewer\n",
    "\n",
    "from IPython.display import HTML\n",
    "\n",
    "HTML('''<script>\n",
    "code_show=true; \n",
    "function code_toggle() {\n",
    " if (code_show){\n",
    " $('div.input').hide();\n",
    " } else {\n",
    " $('div.input').show();\n",
    " }\n",
    " code_show = !code_show\n",
    "} \n",
    "$( document ).ready(code_toggle);\n",
    "</script>\n",
    "<form action=\"javascript:code_toggle()\"><input type=\"submit\" value=\"Click here to toggle on/off the raw code.\"></form>''')"
   ]
  }
 ],
 "metadata": {
  "kernelspec": {
   "display_name": "Python [default]",
   "language": "python",
   "name": "python3"
  },
  "language_info": {
   "codemirror_mode": {
    "name": "ipython",
    "version": 3
   },
   "file_extension": ".py",
   "mimetype": "text/x-python",
   "name": "python",
   "nbconvert_exporter": "python",
   "pygments_lexer": "ipython3",
   "version": "3.6.0"
  }
 },
 "nbformat": 4,
 "nbformat_minor": 2
}
